{
 "cells": [
  {
   "cell_type": "markdown",
   "id": "6024e073-fce8-47ff-80cc-13d757b35c2e",
   "metadata": {},
   "source": [
    "# Predicting Incidence of Churn in Telco Inc. Customers\n",
    "-----"
   ]
  },
  {
   "cell_type": "markdown",
   "id": "f986e235-e298-45c2-b069-8dc5b42a4234",
   "metadata": {},
   "source": [
    "## Project Overview\n",
    "\n",
    "---"
   ]
  },
  {
   "cell_type": "markdown",
   "id": "4b6dc5f6-9711-470c-b47e-6aa1735bb026",
   "metadata": {},
   "source": [
    "#### Goals"
   ]
  },
  {
   "cell_type": "markdown",
   "id": "78e23121-e574-40be-ad5d-542752fc0956",
   "metadata": {},
   "source": [
    "#### Key Findings"
   ]
  },
  {
   "cell_type": "markdown",
   "id": "f53ecd22-e9e6-4ea5-9282-2e5660384706",
   "metadata": {},
   "source": [
    "#### Recommended Actions and Next Stage"
   ]
  },
  {
   "cell_type": "markdown",
   "id": "3c24e63e-c0c5-4bec-b8f0-0c23f76d2b62",
   "metadata": {},
   "source": [
    "## Obtain and Prepare Data for Exploration\n",
    "---"
   ]
  },
  {
   "cell_type": "markdown",
   "id": "79065e2c-d967-4983-b19c-716370816b96",
   "metadata": {},
   "source": [
    "#### Data Acquisition"
   ]
  },
  {
   "cell_type": "markdown",
   "id": "d4d7a245-ef83-4c43-9285-efa7ec28fed9",
   "metadata": {},
   "source": [
    "#### Data Preparation"
   ]
  },
  {
   "cell_type": "markdown",
   "id": "557cca48-4659-4fc8-811a-eb44204df4e0",
   "metadata": {},
   "source": [
    "#### Data Exploration"
   ]
  },
  {
   "cell_type": "markdown",
   "id": "e1d42de8-2cd0-46fd-b62e-10957a496c16",
   "metadata": {},
   "source": [
    "## Prediction Model\n",
    "---"
   ]
  },
  {
   "cell_type": "markdown",
   "id": "676cb101-ea99-49a5-bf6e-51bd12079165",
   "metadata": {},
   "source": [
    "#### Model Creation"
   ]
  },
  {
   "cell_type": "markdown",
   "id": "63b0fa20-dcbf-45ae-8a3e-c6ec1a88ba6c",
   "metadata": {},
   "source": [
    "#### Model Evaluation"
   ]
  },
  {
   "cell_type": "markdown",
   "id": "068381c5-69a7-45c6-b176-c6942f62cdb3",
   "metadata": {},
   "source": [
    "## Conclusion\n",
    "---"
   ]
  }
 ],
 "metadata": {
  "kernelspec": {
   "display_name": "Python 3",
   "language": "python",
   "name": "python3"
  },
  "language_info": {
   "codemirror_mode": {
    "name": "ipython",
    "version": 3
   },
   "file_extension": ".py",
   "mimetype": "text/x-python",
   "name": "python",
   "nbconvert_exporter": "python",
   "pygments_lexer": "ipython3",
   "version": "3.8.10"
  },
  "widgets": {
   "application/vnd.jupyter.widget-state+json": {
    "state": {},
    "version_major": 2,
    "version_minor": 0
   }
  }
 },
 "nbformat": 4,
 "nbformat_minor": 5
}
