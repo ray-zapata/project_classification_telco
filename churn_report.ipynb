{
 "cells": [
  {
   "cell_type": "markdown",
   "id": "6024e073-fce8-47ff-80cc-13d757b35c2e",
   "metadata": {},
   "source": [
    "# Predicting Incidence of Churn in Codeup-Telco Inc. Customers\n",
    "-----\n",
    "Project and Report Created By: Ray Zapata\n",
    "<br><center><a href=\"https://ibb.co/P1m7dGK\"><img src=\"https://i.ibb.co/wp09fhV/telecom.png\" alt=\"telecom\" border=\"0\"></a></center><br>\n",
    "\n",
    "We at Codeup-Telco Inc. strive to be the best in our industry, and we demonstrate that with a tradition of excellence in both service quality and customer relations. It's no secret that other providers give consumers a cheaper product, but it is just that—a cheaper product. We have too high of standards to provide just the barest of service, and it's up to us to ensure we provide just that to our valued customers.\n",
    "\n",
    "This project serves a dual purpose. Firstly, we will be utilizing customer data to evaluate and analyze what it is that causes churn, thereby enabling us to predict future incidence of customer loss. Of course any reduction in churn is a net gain to the bottom line, but what more than that? Within this report we will also find a way for us to improve even further the already quality products we provide, grow as a provider, and take even better care of our customers and their needs."
   ]
  },
  {
   "cell_type": "markdown",
   "id": "f986e235-e298-45c2-b069-8dc5b42a4234",
   "metadata": {},
   "source": [
    "## Project Overview\n",
    "\n",
    "---\n",
    "\n",
    "This final report contains a high-level view into the project process and results, as well as our recommended actions and next phases. For additional insight into the [exploration](https://nbviewer.jupyter.org/github/ray-zapata/project_classification_telco/blob/main/exploration.ipynb) and [modeling](https://nbviewer.jupyter.org/github/ray-zapata/project_classification_telco/blob/main/modeling.ipynb) phase, the two notebooks linked here contain a more in-depth explanation of the process."
   ]
  },
  {
   "cell_type": "markdown",
   "id": "4b6dc5f6-9711-470c-b47e-6aa1735bb026",
   "metadata": {},
   "source": [
    "### Process\n",
    "\n",
    "With this project we set to parse through existing customer data by first obtaining, preparing, and exploring it using python and its various libraries. We will use custom modules to aid with this process as well as automate it for future replication. With this data, we will create several machine learning models which will be fitted to a training dataset made up of $\\approx60\\%$ of total data. These models will then be evaluated with a smaller validation dataset comprised of $\\approx20\\%$ of the data, and finally the best performer will be used on a testing dataset also made up of $\\approx20\\%$ of the data.\n",
    "\n",
    "With our final model, we will create a CSV document to contain `customer_id`, the unique identifier for customers in our database, `prediction_of_churn`, a boolean value that shows if customer is predicted to churn $(1)$ or be retained $(0)$, and `probability_of_churn`, a float value that shows the predicted likelihood of customer churn.\n",
    "\n",
    "### Modules\n",
    "- [`acquire.py`](https://raw.githubusercontent.com/ray-zapata/project_classification_telco/main/acquire.py) contains MySQL query function and pandas to acquire data from the `telco_churn` database\n",
    "- [`prepare.py`](https://raw.githubusercontent.com/ray-zapata/project_classification_telco/main/prepare.py) prepares the data acquired from the database\n",
    "- [`explore.py`](https://raw.githubusercontent.com/ray-zapata/project_classification_telco/main/explore.py) contains functions to explore the prepared DataFrame with desired features as columns\n",
    "- [`visualize.py`](https://raw.githubusercontent.com/ray-zapata/project_classification_telco/main/visualize.py) contains functions for the purpose of graphically and textually visualizing data\n",
    "- [`measure.py`](https://raw.githubusercontent.com/ray-zapata/project_classification_telco/main/measure.py) contains functions to output statistical tests and metric performance of models\n",
    "- [`model.py`](https://raw.githubusercontent.com/ray-zapata/project_classification_telco/main/model.py) contains functions to create models and output their metrics on specified datasets"
   ]
  },
  {
   "cell_type": "markdown",
   "id": "641af2e7-c8aa-437d-84ad-5a87aa5f6963",
   "metadata": {},
   "source": [
    "### Goals\n",
    "\n",
    "Our goal is to use the model created in the process above to find strong divers of churn and predict probability of customer loss. We will use this information to find remedies to these drivers and recommend action to set in place to reduce these areas of churn."
   ]
  },
  {
   "cell_type": "markdown",
   "id": "05097f52-a984-4605-813f-66d8a1d50c1e",
   "metadata": {},
   "source": [
    "### Key Findings\n",
    "\n",
    "In the exploration process of the project, we discovered several key variables related to customer churn. In visualizing the distribution of churn to retain customers, we found that significantly more customers with internet services churned than phone only customers. Customers in their first year of service were more likely to churn than customers who had passed their service anniversary. This led us to look at specifically customers within their first year internet customers for the remaining process.\n",
    "\n",
    "Of this subset of customers, the strongest positive correlation with churn was found with fiber optic customers, those who pay with electronic checks, and customers on month-to-month terms. These will be used as the features of our models."
   ]
  },
  {
   "cell_type": "markdown",
   "id": "f53ecd22-e9e6-4ea5-9282-2e5660384706",
   "metadata": {},
   "source": [
    "### Recommended Action\n",
    "\n",
    "As a leading provider of telecom services, our best course of action is in aiding our customers to find the right fit for their needs. Many customers may be considering cost-benefit of the services the subscribe to, and rather than have them churn, we can proactively reach out to high-risk customers in effort to find them satisfactory resolutions to their woes.\n",
    "\n",
    "Fiber optic customers may not be seeing the performance they believe they should. We should reach out to these customers to see if they might be a better fit using our DSL service.\n",
    "\n",
    "Customers paying with electronic checks may be experiencing complications with this payment method. It is suggested that we analyze our payment systems to discover potential bugs that may be frustrating the process."
   ]
  },
  {
   "cell_type": "markdown",
   "id": "5d635cea-26d1-4899-8c79-f84c766807bd",
   "metadata": {},
   "source": [
    "## Initalize Notebook"
   ]
  },
  {
   "cell_type": "code",
   "execution_count": 1,
   "id": "279938a9-19f2-418f-8bfa-0162afe94a1c",
   "metadata": {},
   "outputs": [],
   "source": [
    "# import python libraries\n",
    "import pandas as pd\n",
    "import numpy as np\n",
    "\n",
    "# import visualization tools\n",
    "from matplotlib.pyplot import show\n",
    "from sklearn.tree import plot_tree\n",
    "import visualize as viz\n",
    "\n",
    "#import created functions\n",
    "from explore import explore_data\n",
    "from prepare import prep_data, get_final_report\n",
    "from model import baseline_model, tree_model, forest_model, knn_model, logit_model\n",
    "from measure import two_sample_ttest, chi_test_lite, model_report, model_report_lite, validate, final_test\n",
    "\n",
    "# cosmetic imports and settings\n",
    "import warnings\n",
    "warnings.filterwarnings(\"ignore\")\n",
    "from matplotlib.pyplot import style\n",
    "style.use('~/.matplotlib/gruvbox.mplstyle')\n",
    "from end import end\n"
   ]
  },
  {
   "cell_type": "markdown",
   "id": "3c24e63e-c0c5-4bec-b8f0-0c23f76d2b62",
   "metadata": {},
   "source": [
    "## Obtain and Prepare Data for Exploration\n",
    "---"
   ]
  },
  {
   "cell_type": "markdown",
   "id": "79065e2c-d967-4983-b19c-716370816b96",
   "metadata": {},
   "source": [
    "### Data Acquisition and Preparation\n",
    "\n",
    "Using the function `explore_data` defined in the explore module, we will create a pandas DataFrame containing all of our potential variables. This DataFrame will be acquired from the SQL database, cached as a CSV, encoded, and finally split into our $\\approx60\\%$ train dataset. For this function, and throughout this project, `random_state=19` will be used where applicable."
   ]
  },
  {
   "cell_type": "code",
   "execution_count": 2,
   "id": "42249a80-e928-45ae-810f-96fd7b7d99c1",
   "metadata": {},
   "outputs": [
    {
     "name": "stdout",
     "output_type": "stream",
     "text": [
      "\n",
      "             Data Processing Complete\n",
      "    +----------------------------------------+\n",
      "    |   Source DataFrame Shape : 7043 x 27   |\n",
      "    |   Subset DataFrame Shape : 4225 x 27   |\n",
      "    |     Data Percentage Used : 59.99%      |\n",
      "    +----------------------------------------+   \n",
      "        \n"
     ]
    }
   ],
   "source": [
    "# functions will drop any duplicates, impute mean to missing\n",
    "# values of total_charges, encode all variables\n",
    "df = explore_data()"
   ]
  },
  {
   "cell_type": "markdown",
   "id": "871daa5f-6a14-4a9a-a2bb-1fe5f38a9568",
   "metadata": {},
   "source": [
    "This data has had any potential duplicates removed, all missing values from the `total_charges` column filled with the mean, and holds only integers and float data types."
   ]
  },
  {
   "cell_type": "code",
   "execution_count": 3,
   "id": "cc44f18f-ca65-486e-a5b5-afc5a664027c",
   "metadata": {},
   "outputs": [
    {
     "name": "stdout",
     "output_type": "stream",
     "text": [
      "<class 'pandas.core.frame.DataFrame'>\n",
      "Int64Index: 4225 entries, 5135 to 6339\n",
      "Data columns (total 27 columns):\n",
      " #   Column             Non-Null Count  Dtype  \n",
      "---  ------             --------------  -----  \n",
      " 0   is_female          4225 non-null   int64  \n",
      " 1   is_senior          4225 non-null   int64  \n",
      " 2   has_partner        4225 non-null   int64  \n",
      " 3   has_dependent      4225 non-null   int64  \n",
      " 4   has_phone          4225 non-null   int64  \n",
      " 5   one_line           4225 non-null   int64  \n",
      " 6   multiple_lines     4225 non-null   int64  \n",
      " 7   has_internet       4225 non-null   int64  \n",
      " 8   dsl                4225 non-null   int64  \n",
      " 9   fiber              4225 non-null   int64  \n",
      " 10  streaming_tv       4225 non-null   int64  \n",
      " 11  streaming_movies   4225 non-null   int64  \n",
      " 12  online_security    4225 non-null   int64  \n",
      " 13  online_backup      4225 non-null   int64  \n",
      " 14  device_protection  4225 non-null   int64  \n",
      " 15  tech_support       4225 non-null   int64  \n",
      " 16  monthly_charges    4225 non-null   float64\n",
      " 17  total_charges      4225 non-null   float64\n",
      " 18  mailed_check       4225 non-null   int64  \n",
      " 19  electronic_check   4225 non-null   int64  \n",
      " 20  bank_transfer      4225 non-null   int64  \n",
      " 21  credit_card        4225 non-null   int64  \n",
      " 22  paperless_billing  4225 non-null   int64  \n",
      " 23  autopay            4225 non-null   int64  \n",
      " 24  no_contract        4225 non-null   int64  \n",
      " 25  tenure             4225 non-null   int64  \n",
      " 26  churn              4225 non-null   int64  \n",
      "dtypes: float64(2), int64(25)\n",
      "memory usage: 924.2 KB\n"
     ]
    }
   ],
   "source": [
    "# print DataFrame columns, counts, and dtypes\n",
    "df.info()"
   ]
  },
  {
   "cell_type": "markdown",
   "id": "78f82aca-99c6-4030-be6d-8a1cd73d363c",
   "metadata": {},
   "source": [
    "### Data Exploration"
   ]
  },
  {
   "cell_type": "markdown",
   "id": "557cca48-4659-4fc8-811a-eb44204df4e0",
   "metadata": {},
   "source": [
    "#### Initial Thoughts\n",
    "\n",
    "- What role does `tenure` play in customer churn?\n",
    "  - It seems reasonable that if you stay longer, you stay because you at satisfied.\n",
    "- Do customers who churn have higher `monthly_charges` than customers who remain?\n",
    "  - Reductive reasoning suggests if you can get it cheaper somewhere else, you will.\n",
    "- Are particular services, or payment methods more likely to result in churn?\n",
    "  - Maybe there is an issue with one of the services or systems in place."
   ]
  },
  {
   "cell_type": "markdown",
   "id": "1975d3ef-f9de-40d3-b30a-240032e4fc20",
   "metadata": {},
   "source": [
    "In exploration, it was found that most churn occurred early on in customer tenure, and it was decided we would look at predicting churn with those first-year customers. For the sake of brevity, exploration through this report will begin with that assumption and use key features as determined in the same process. For more thorough exploration, please refer to the exploration notebook linked in the first section of the project overview."
   ]
  },
  {
   "cell_type": "code",
   "execution_count": 4,
   "id": "1683570a-27a8-40d6-8773-0ce5cb1035ca",
   "metadata": {},
   "outputs": [
    {
     "name": "stdout",
     "output_type": "stream",
     "text": [
      "\n",
      "             Data Processing Complete\n",
      "    +----------------------------------------+\n",
      "    |   Source DataFrame Shape : 7043 x 7    |\n",
      "    |   Subset DataFrame Shape : 4225 x 7    |\n",
      "    |     Data Percentage Used : 59.99%      |\n",
      "    +----------------------------------------+   \n",
      "        \n"
     ]
    }
   ],
   "source": [
    "# create list of features to pass into function for DataFrame column creation\n",
    "features = ['has_internet', 'fiber', 'monthly_charges', 'electronic_check', 'no_contract', 'tenure']\n",
    "\n",
    "# reassign our DataFrame\n",
    "df = explore_data(columns=features)\n",
    "\n",
    "# split data into first and post years customers\n",
    "first_year = df[df.tenure <= 12]\n",
    "post_year = df[df.tenure > 12]"
   ]
  },
  {
   "cell_type": "markdown",
   "id": "09c78523-340b-4fbb-b0ff-8709ec3f76e9",
   "metadata": {},
   "source": [
    "### Distribution\n",
    "\n",
    "What can we discern by looking at the distribution of variables in the customer population? We will use the `hist_vars` function from the visualize module to create some histograms of the variables we've selected."
   ]
  },
  {
   "cell_type": "code",
   "execution_count": 5,
   "id": "d793b6c6-92d4-4eb2-b98c-a4b18f65d670",
   "metadata": {},
   "outputs": [
    {
     "data": {
      "image/png": "[encoded data removed]",
      "text/plain": [
       "<Figure size 2016x864 with 6 Axes>"
      ]
     },
     "metadata": {},
     "output_type": "display_data"
    }
   ],
   "source": [
    "# function will create a histogram for each variable currently\n",
    "# existing in the dataframe then plot it with a hue for churn\n",
    "viz.hist_vars(df)"
   ]
  },
  {
   "cell_type": "markdown",
   "id": "cf22f882-da85-42ab-a724-e0711677e2c0",
   "metadata": {},
   "source": [
    "There are two very prominent takeaways from this visual. Customers who are month-to-month churn significantly more than our contract customers, and there is a steep decline in churn in tenure after the between the first and second five months. This is a pretty strong answer to our question in regard to `tenure`'s impact on churn.\n",
    "\n",
    "There is also some significant disparity between phone-only customers who churn and customers with internet service. From this we will get the best results by looking at what is causing our internet customers to churn.\n"
   ]
  },
  {
   "cell_type": "markdown",
   "id": "a621c43c-c61a-478b-b3e0-a8f62182de3e",
   "metadata": {},
   "source": [
    "### Correlation\n",
    "\n",
    "This seaborn heatmap allows us to see correlation of our variables to churn. We are from here going to be looking at first-year internet customers. Darker reds will indicate a stronger positive correlation, and darker blues will indicate a stronger negative correlation. The coefficient will be annotated for improved clarity."
   ]
  },
  {
   "cell_type": "code",
   "execution_count": 6,
   "id": "3adafcd3-1b8a-4d98-b220-0f777a8cef69",
   "metadata": {},
   "outputs": [
    {
     "data": {
      "image/png": "[encoded data removed]",
      "text/plain": [
       "<Figure size 2160x72 with 1 Axes>"
      ]
     },
     "metadata": {},
     "output_type": "display_data"
    }
   ],
   "source": [
    "# use heater function to display annotated correlations of chosen\n",
    "# features to churn\n",
    "viz.heater(first_year)"
   ]
  },
  {
   "cell_type": "markdown",
   "id": "b4e1200d-f7b2-4a22-97a7-39c3f48da8f5",
   "metadata": {},
   "source": [
    "We can see some moderately strong relationships between churn with the heatmap. Unsurprisingly, as customer tenure increases, churn rates decrease. `no_contract` doesn't seem to be as strong as might be expected, but it is still a factor to consider. `fiber` and `monthly_charges` still seem to be the strongest players in the game."
   ]
  },
  {
   "cell_type": "markdown",
   "id": "a941809c-d9e8-495c-b148-083f94aa6584",
   "metadata": {},
   "source": [
    "### Internet Customer Breakdown\n",
    "\n",
    "We should inspect some hard numbers of fiber optic customers. Let's use this function to find our total customers, break them down by tenure as one year or over one year, and see our churn rate."
   ]
  },
  {
   "cell_type": "code",
   "execution_count": 7,
   "id": "419e0227-9e81-44eb-9fe2-f2f68eb39f1f",
   "metadata": {},
   "outputs": [
    {
     "name": "stdout",
     "output_type": "stream",
     "text": [
      "\n",
      "         Total Fiber Customers: 1851\n",
      "+ ------------------------------------------ +\n",
      "|                                            |\n",
      "|   First Year Fiber Customers: 559          |\n",
      "|                                            |\n",
      "|                      Churned: 385          |\n",
      "|                      Percent: 68.87%       |\n",
      "|                                            |\n",
      "|    Post Year Fiber Customers: 1292         |\n",
      "|                                            |\n",
      "|                      Churned: 379          |\n",
      "|                      Percent: 29.33%       |\n",
      "|                                            |\n",
      "+ ------------------------------------------ +\n",
      "\n"
     ]
    }
   ],
   "source": [
    "# create text visual that breaks down fiber customers into first-year\n",
    "# and post-year groupings and shows their churn numbers and percentage\n",
    "viz.internet_breakdown(df)"
   ]
  },
  {
   "cell_type": "markdown",
   "id": "448cf5b4-ce1a-4bdc-80dc-ff6d96e6e952",
   "metadata": {},
   "source": [
    "Those are telling numbers. Fewer total fiber customers churn after their first year than in it. There must be something with this line of service that must be investigated."
   ]
  },
  {
   "cell_type": "markdown",
   "id": "40ba93da-8f97-49b2-a9e8-145d2931d8e2",
   "metadata": {},
   "source": [
    "### Statistical Testing\n",
    "\n",
    "Now that we have some visuals to set our course, let us assess the relationships to churn using some statistical testing. "
   ]
  },
  {
   "cell_type": "markdown",
   "id": "75f7099b-3da5-4e54-971f-8d3dc83c5e5c",
   "metadata": {},
   "source": [
    "#### T-Test of Monthly Charges\n",
    "\n",
    "We can divide up our data into two populations for comparison with monthly charges. Do customers who churn pay more than customers who are retained?\n",
    "\n",
    "We will formulate our null and alternative hypotheses:\n",
    "\n",
    "* H$_0$: There is no significant difference in monthly charges between customers who churn and customers retained.\n",
    "* H$_a$: There is a  significant difference in monthly charges between customers who churn and customers retained.\n",
    "\n",
    "And define our `alpha`, or significance level:\n",
    "\n",
    "* $\\alpha$: 0.05"
   ]
  },
  {
   "cell_type": "code",
   "execution_count": 8,
   "id": "87e9c621-7864-4413-8a33-5652f2646c41",
   "metadata": {},
   "outputs": [],
   "source": [
    "# define our a and b populations for ttest\n",
    "ab = df[(df.fiber == 1) & (df.tenure <= 12)]\n",
    "a = ab[ab.churn == 1].monthly_charges\n",
    "b = ab[ab.churn == 0].monthly_charges"
   ]
  },
  {
   "cell_type": "code",
   "execution_count": 9,
   "id": "45ffcdda-d5fe-4342-a1b0-6f479c29613a",
   "metadata": {},
   "outputs": [
    {
     "name": "stdout",
     "output_type": "stream",
     "text": [
      "\n",
      "  alpha: 0.05\n",
      "p-value: 0.009\n",
      "\n",
      "        Due to our p-value of 0.009 being less than our significance level of 0.05, we must reject the null hypothesis\n",
      "        that there is no difference in monthly_charges between the two populations.\n",
      "        \n"
     ]
    }
   ],
   "source": [
    "# run two_sample_ttest function for one-tail\n",
    "two_sample_ttest(a, b, alternative='greater')"
   ]
  },
  {
   "cell_type": "markdown",
   "id": "0181dd14-e719-472d-95b6-19477f7d0b28",
   "metadata": {},
   "source": [
    "#### $\\chi^2$ Test of Categorical Features\n",
    "\n",
    "In order to compare our other categorical variables to our categorical target, we can perform some $\\chi^2$ tests to evaluate their independence from eachother. For brevity and space, we will use a function to take in our variables against our target to output our p-value and whether to accept or to reject the null hypothesis. To see the resulting `observed` and `expected` DataFrame please see the exploration notebook. \n",
    "\n",
    "Again state our null and alternative hypotheses:\n",
    "\n",
    "- H$_0$: Churn is independent of the compared variable.\n",
    "- H$_a$: Churn is not independent of the compared variable.\n",
    "\n",
    "And define our significance level:\n",
    "- $\\alpha$: 0.05"
   ]
  },
  {
   "cell_type": "code",
   "execution_count": 10,
   "id": "a44c5079-0b73-4e81-9d65-68dd00d5ba72",
   "metadata": {},
   "outputs": [],
   "source": [
    "# set list of categorical features for chi_square test\n",
    "v_cats = ['has_internet', 'fiber', 'electronic_check', 'no_contract']"
   ]
  },
  {
   "cell_type": "code",
   "execution_count": 11,
   "id": "696d93cd-c033-439a-bd6b-b584518a88a0",
   "metadata": {},
   "outputs": [
    {
     "name": "stdout",
     "output_type": "stream",
     "text": [
      "\n",
      "  alpha: 0.05\n",
      "p-value: 4e-52\n",
      "\n",
      "        Due to our p-value of 4e-52 being less than our significance level of 0.05, we must reject the null hypothesis\n",
      "        that churn is independent of has_internet.\n",
      "        \n",
      "\n",
      "  alpha: 0.05\n",
      "p-value: 1e-81\n",
      "\n",
      "        Due to our p-value of 1e-81 being less than our significance level of 0.05, we must reject the null hypothesis\n",
      "        that churn is independent of fiber.\n",
      "        \n",
      "\n",
      "  alpha: 0.05\n",
      "p-value: 4e-76\n",
      "\n",
      "        Due to our p-value of 4e-76 being less than our significance level of 0.05, we must reject the null hypothesis\n",
      "        that churn is independent of electronic_check.\n",
      "        \n",
      "\n",
      "  alpha: 0.05\n",
      "p-value: 4e-152\n",
      "\n",
      "        Due to our p-value of 4e-152 being less than our significance level of 0.05, we must reject the null hypothesis\n",
      "        that churn is independent of no_contract.\n",
      "        \n"
     ]
    }
   ],
   "source": [
    "# loop chi_square_lite through features chosen for model stage\n",
    "# to determine whether to accept or reject null hypotheses\n",
    "for cat in v_cats:\n",
    "    chi_test_lite(df[cat], df.churn)"
   ]
  },
  {
   "cell_type": "markdown",
   "id": "e1d42de8-2cd0-46fd-b62e-10957a496c16",
   "metadata": {},
   "source": [
    "## Machine Learning Model\n",
    "---"
   ]
  },
  {
   "cell_type": "markdown",
   "id": "70d13799-cd53-4382-b4fb-2b2e7360bc6e",
   "metadata": {},
   "source": [
    "When creating our initial models in the modeling notebook, seven models were created using the standard `sklearn` classifiers. In this report we will walk through the creation of the baseline and best performing models, and finally test our model using the `test` dataset. When creating a model, it was decided it would be best to optimize for recall of the positive class as a false negative was determined to be more harmful to the intent of the model than a false positive. In this case, a positive case was defined as `churn==1` with the negative case being `churn==0`."
   ]
  },
  {
   "cell_type": "markdown",
   "id": "6a481ed5-5e11-4c3c-8531-fb4c587d4e00",
   "metadata": {},
   "source": [
    "### Prepare Data"
   ]
  },
  {
   "cell_type": "code",
   "execution_count": 12,
   "id": "8676d7f4-3419-490b-99ac-a90cbae625c3",
   "metadata": {},
   "outputs": [],
   "source": [
    "# assign out X, y for each dataset to be used in creation, evaluation, and testing\n",
    "X_train, y_train, X_validate, y_validate, X_test, y_test = prep_data(columns=features)"
   ]
  },
  {
   "cell_type": "markdown",
   "id": "4fac4862-f797-4089-8f89-47fd875e40c8",
   "metadata": {},
   "source": [
    "### Baseline\n",
    "\n",
    "We will create a baseline prediction using the most frequently occuring class in our target. The `baseline_model` function will take in our `X_train` DataFrame and `y_train` series and automatically return a `DummyClassifier` with that class."
   ]
  },
  {
   "cell_type": "code",
   "execution_count": 13,
   "id": "86050bf9-69e9-4d36-ab8a-0c42e0fb79a4",
   "metadata": {},
   "outputs": [
    {
     "name": "stdout",
     "output_type": "stream",
     "text": [
      "\n",
      "               Baseline Accuracy Score: 73.47%\n",
      "        First Ten Baseline Predictions: [0 0 0 0 0 0 0 0 0 0]\n",
      "        \n"
     ]
    }
   ],
   "source": [
    "# assign baseline model and predictions, output accuracy score and values held\n",
    "baseline, baseline_pred = baseline_model(X_train, y_train)"
   ]
  },
  {
   "cell_type": "markdown",
   "id": "d6350b92-ae5a-4166-859b-5301a6d979a4",
   "metadata": {},
   "source": [
    "We can see our baseline accuracy score output printed by the function, as well as the first ten values held in its \"predictions.\""
   ]
  },
  {
   "cell_type": "markdown",
   "id": "678b0c10-7e66-462b-8e35-19c78d4ab346",
   "metadata": {},
   "source": [
    "### Model Creation"
   ]
  },
  {
   "cell_type": "markdown",
   "id": "97a4f54e-1af8-454e-9ee0-8d04255cf162",
   "metadata": {},
   "source": [
    "#### Model 1\n",
    "\n",
    "First we will use a simple decision tree. In order to avoid overfit, `max_depth=3` will be used so the model doesn't grow too deep."
   ]
  },
  {
   "cell_type": "code",
   "execution_count": 14,
   "id": "e2b97b3b-419c-412f-b92f-d2307c9959ca",
   "metadata": {},
   "outputs": [
    {
     "name": "stdout",
     "output_type": "stream",
     "text": [
      "\n",
      "            *** Model  Report ***  \n",
      "            ---------------------              \n",
      " _____________________________________________\n",
      "|            Positive Case: churn==1          |\n",
      "|            Negative Case: churn==0          |\n",
      "|---------------------------------------------|\n",
      "|                 Accuracy:   79.43%          |\n",
      "|                Precision:   63.67%          |\n",
      "|                   Recall:   52.36%          |\n",
      "|            Total Support:     4225          |\n",
      "|_____________________________________________|\n",
      "\n",
      "Baseline Accuracy: 73.46%\n",
      "\n"
     ]
    }
   ],
   "source": [
    "# limit tree growth to four levels\n",
    "tree, tree_pred = tree_model(X_train, y_train, lite=True, max_depth=4)\n",
    "\n",
    "# print baseline accuracy for comparison\n",
    "print(f'Baseline Accuracy: {baseline.score(X_validate, y_validate):.2%}\\n')"
   ]
  },
  {
   "cell_type": "markdown",
   "id": "1f787d70-3906-4388-a08e-9774a0d7353b",
   "metadata": {},
   "source": [
    "We see the model surpasses the baseline, but we are missing nearly half of the positive cases, the case we want to ensure capture of."
   ]
  },
  {
   "cell_type": "markdown",
   "id": "8189d376-6d78-4c58-ba7a-a9bd0211c57b",
   "metadata": {},
   "source": [
    "#### Model 2\n",
    "\n",
    "Next, we will create a `RandomForestClassifier` using our `forest_model` function. We will again limit the depth of each tree, but we will add more trees to the default `n_estimators`."
   ]
  },
  {
   "cell_type": "code",
   "execution_count": 15,
   "id": "8eb0d1bf-3daa-40e3-b080-2f821c3dff2f",
   "metadata": {},
   "outputs": [
    {
     "name": "stdout",
     "output_type": "stream",
     "text": [
      "\n",
      "            *** Model  Report ***  \n",
      "            ---------------------              \n",
      " _____________________________________________\n",
      "|            Positive Case: churn==1          |\n",
      "|            Negative Case: churn==0          |\n",
      "|---------------------------------------------|\n",
      "|                 Accuracy:   79.29%          |\n",
      "|                Precision:   69.16%          |\n",
      "|                   Recall:   39.61%          |\n",
      "|            Total Support:     4225          |\n",
      "|_____________________________________________|\n",
      "\n",
      "Baseline Accuracy: 73.46%\n",
      "\n"
     ]
    }
   ],
   "source": [
    "# limit each tree to three levels, add 400 more tress\n",
    "forest, forest_pred = forest_model(X_train, y_train, lite=True, n_estimators=500, max_depth=3)\n",
    "\n",
    "# print baseline accuracy for comparison\n",
    "print(f'Baseline Accuracy: {baseline.score(X_validate, y_validate):.2%}\\n')"
   ]
  },
  {
   "cell_type": "markdown",
   "id": "e76eccfd-a9c7-48b5-9b4c-915d4ca5f76d",
   "metadata": {},
   "source": [
    "Once again we have beaten the baseline, but our recall for the positive class is even worse than before. "
   ]
  },
  {
   "cell_type": "markdown",
   "id": "676cb101-ea99-49a5-bf6e-51bd12079165",
   "metadata": {},
   "source": [
    "#### Model3\n",
    "\n",
    "Next we will use the `logit_model` function to create a `LogisticRegression` model. Using the recommended `solver='liblinear` for a smaller data size and `class_weight={0:1.1, 1:1.7}` to adjust for class imbalance in our target variable."
   ]
  },
  {
   "cell_type": "code",
   "execution_count": 16,
   "id": "8515baaa-c8c8-47d3-92c7-c58be8f2b0ef",
   "metadata": {},
   "outputs": [
    {
     "name": "stdout",
     "output_type": "stream",
     "text": [
      "\n",
      "            *** Model  Report ***  \n",
      "            ---------------------              \n",
      " _____________________________________________\n",
      "|            Positive Case: churn==1          |\n",
      "|            Negative Case: churn==0          |\n",
      "|---------------------------------------------|\n",
      "|                 Accuracy:   78.06%          |\n",
      "|                Precision:   57.65%          |\n",
      "|                   Recall:   65.21%          |\n",
      "|            Total Support:     4225          |\n",
      "|_____________________________________________|\n",
      "\n",
      "Baseline Accuracy: 73.47%\n",
      "\n"
     ]
    }
   ],
   "source": [
    "# assign model and model predictions on training dataset, output model performance\n",
    "logit, logit_pred = logit_model(X_train, y_train, lite=True, solver='liblinear', class_weight={0:1.1, 1:1.7})\n",
    "\n",
    "# print baseline accuracy for comparison\n",
    "print(f'Baseline Accuracy: {baseline.score(X_train, y_train):.2%}\\n')"
   ]
  },
  {
   "cell_type": "markdown",
   "id": "ec7e5571-2775-43b1-b50d-1c18e97f4dd6",
   "metadata": {},
   "source": [
    "Using our function, we get an automatic print of the model's metrics. We can see with an accuracy score of $\\approx79\\%$, we have surpassed the baseline accuracy score. What's more, we are hitting nearly $68\\%$ recall score for the positive class. This is the best result we had obtained in model creation."
   ]
  },
  {
   "cell_type": "markdown",
   "id": "63b0fa20-dcbf-45ae-8a3e-c6ec1a88ba6c",
   "metadata": {},
   "source": [
    "### Model Evaluation\n",
    "Now that we've seen our baseline and models on the training data, we can evaluate them using our validation dataset and see how they perform on out-of-sample data."
   ]
  },
  {
   "cell_type": "markdown",
   "id": "45faaec4-482a-40d9-91c2-fcf61f2ca163",
   "metadata": {},
   "source": [
    "#### Model 1\n",
    "\n",
    "First up is our decision tree model. We will use the `validate` function to return the prediction values, and print a report on the basic metrics for the model."
   ]
  },
  {
   "cell_type": "code",
   "execution_count": 17,
   "id": "03656421-3d34-45ff-977f-7ea0de8c5abe",
   "metadata": {},
   "outputs": [
    {
     "name": "stdout",
     "output_type": "stream",
     "text": [
      "\n",
      "            *** Model  Report ***  \n",
      "            ---------------------              \n",
      " _____________________________________________\n",
      "|            Positive Case: churn==1          |\n",
      "|            Negative Case: churn==0          |\n",
      "|---------------------------------------------|\n",
      "|                 Accuracy:   79.35%          |\n",
      "|                Precision:   64.16%          |\n",
      "|                   Recall:   50.27%          |\n",
      "|            Total Support:     1409          |\n",
      "|_____________________________________________|\n",
      "\n",
      "Baseline Accuracy: 73.46%\n",
      "\n"
     ]
    }
   ],
   "source": [
    "# assign model predictions of validation dataset, output model performance\n",
    "tree_val_pred = validate(X_validate, y_validate, tree, lite=True)\n",
    "\n",
    "# print baseline accuracy for comparison\n",
    "print(f'Baseline Accuracy: {baseline.score(X_validate, y_validate):.2%}\\n')"
   ]
  },
  {
   "cell_type": "markdown",
   "id": "9ebc2edb-3a44-4490-9a6e-2320bcfa6cd7",
   "metadata": {},
   "source": [
    "Our overall accuracy score is performing quite higher than the baseline, and we are capturing just over half of the positive class. Slightly lower than the metrics seen on the training data, but it's to be expected."
   ]
  },
  {
   "cell_type": "markdown",
   "id": "83982032-999d-469e-a611-0c94461ac851",
   "metadata": {},
   "source": [
    "#### Model 2\n",
    "\n",
    "Coming up is our random forest. We saw it performed the worst at recall. Let's see how it performs in the out-of-sample data."
   ]
  },
  {
   "cell_type": "code",
   "execution_count": 18,
   "id": "f8f74577-6e1f-4b73-9895-1fc56f83cb55",
   "metadata": {},
   "outputs": [
    {
     "name": "stdout",
     "output_type": "stream",
     "text": [
      "\n",
      "            *** Model  Report ***  \n",
      "            ---------------------              \n",
      " _____________________________________________\n",
      "|            Positive Case: churn==1          |\n",
      "|            Negative Case: churn==0          |\n",
      "|---------------------------------------------|\n",
      "|                 Accuracy:   79.42%          |\n",
      "|                Precision:   69.27%          |\n",
      "|                   Recall:   40.37%          |\n",
      "|            Total Support:     1409          |\n",
      "|_____________________________________________|\n",
      "\n",
      "Baseline Accuracy: 73.46%\n",
      "\n"
     ]
    }
   ],
   "source": [
    "# assign model predictions of validation dataset, output model performance\n",
    "forest_val_pred = validate(X_validate, y_validate, forest, lite=True)\n",
    "\n",
    "# print baseline accuracy for comparison\n",
    "print(f'Baseline Accuracy: {baseline.score(X_validate, y_validate):.2%}\\n')"
   ]
  },
  {
   "cell_type": "markdown",
   "id": "8b4d6b08-f80a-4511-9a8c-597b24013f71",
   "metadata": {},
   "source": [
    "Once again we have nearly $80\\%$ accuracy, and despite a slight increase to positive recall, it is still inadequate for our intent."
   ]
  },
  {
   "cell_type": "markdown",
   "id": "0fd9760f-19e1-4494-9422-2cc7e7e6dd62",
   "metadata": {},
   "source": [
    "#### Model 3\n",
    "\n",
    "Last up is the logical regression model. It was the top contender in the training data, but let's see if it can hold on to its lead in the validation data."
   ]
  },
  {
   "cell_type": "code",
   "execution_count": 19,
   "id": "04837463-aa7d-4bed-9cc2-3c550b8ff6b6",
   "metadata": {},
   "outputs": [
    {
     "name": "stdout",
     "output_type": "stream",
     "text": [
      "\n",
      "            *** Model  Report ***  \n",
      "            ---------------------              \n",
      " _____________________________________________\n",
      "|            Positive Case: churn==1          |\n",
      "|            Negative Case: churn==0          |\n",
      "|---------------------------------------------|\n",
      "|                 Accuracy:   78.64%          |\n",
      "|                Precision:   59.06%          |\n",
      "|                   Recall:   63.64%          |\n",
      "|            Total Support:     1409          |\n",
      "|_____________________________________________|\n",
      "\n",
      "Baseline Accuracy: 73.46%\n",
      "\n"
     ]
    }
   ],
   "source": [
    "# assign model predictions of validation dataset, output model performance\n",
    "logit_val_pred = validate(X_validate, y_validate, logit, lite=True)\n",
    "\n",
    "# print baseline accuracy for comparison\n",
    "print(f'Baseline Accuracy: {baseline.score(X_validate, y_validate):.2%}\\n')"
   ]
  },
  {
   "cell_type": "markdown",
   "id": "34763951-67e9-479d-b2e5-3b5d9b93733e",
   "metadata": {},
   "source": [
    "Our accuracy score, while slightly higher, is not alarmingly so. One thing to note is we do have a decrease of around three percentage points in our recall. It still performed better than the other models did on both validation and training datasets, however."
   ]
  },
  {
   "cell_type": "markdown",
   "id": "6956be29-95b3-464c-bd28-9c4d1b2c60b2",
   "metadata": {},
   "source": [
    "## Final Test\n",
    "\n",
    "Lastly, we come to the make-or-break moment of testing. Using our `logit` model, we will see how it performs on the $20\\%$ test data. This is the only model to make it to this stage, as the other model performance was outclassed by our logit model we have been working with here. Without any further ceremony…"
   ]
  },
  {
   "cell_type": "code",
   "execution_count": 20,
   "id": "8c5242a7-4f51-44a7-85fe-0c6e301bcf66",
   "metadata": {},
   "outputs": [
    {
     "name": "stdout",
     "output_type": "stream",
     "text": [
      "\n",
      "            *** Model  Report ***  \n",
      "            ---------------------              \n",
      " _____________________________________________\n",
      "|            Positive Case: churn==1          |\n",
      "|            Negative Case: churn==0          |\n",
      "|---------------------------------------------|\n",
      "|                 Accuracy:   78.50%          |\n",
      "|       True Positive Rate:   42.90%          |\n",
      "|      False Positive Rate:   22.06%          |\n",
      "|       True Negative Rate:   77.94%          |\n",
      "|      False Negative Rate:   57.10%          |\n",
      "|                Precision:   58.51%          |\n",
      "|                   Recall:   65.24%          |\n",
      "|                 F1-Score:   61.69%          |\n",
      "|                                             |\n",
      "|         Positive Support:      374          |\n",
      "|         Negative Support:     1035          |\n",
      "|            Total Support:     1409          |\n",
      "|_____________________________________________|\n",
      "\n",
      "Baseline Accuracy: 73.46%\n",
      "\n"
     ]
    }
   ],
   "source": [
    "# assign model predictions on test dataset, output model performance\n",
    "logit_test_pred = final_test(X_test, y_test, logit)\n",
    "\n",
    "# print baseline accuracy for comparison\n",
    "print(f'Baseline Accuracy: {baseline.score(X_test, y_test):.2%}\\n')"
   ]
  },
  {
   "cell_type": "markdown",
   "id": "f4f7bf5b-caa0-42f6-a7af-1fd5b914f56e",
   "metadata": {},
   "source": [
    "Just like that, it was done. We can see performance has been retained well enough, and we are now capturing over $65\\%$ of the positive class. Even at the final stage, this model out-performs both the baseline and our other models in the previous stages. With this model, we can look at the probability output and use it to assign customers into a high-risk of churn category. With a proactive approach, many of these customers may be retained."
   ]
  },
  {
   "cell_type": "markdown",
   "id": "068381c5-69a7-45c6-b176-c6942f62cdb3",
   "metadata": {},
   "source": [
    "## Conclusion\n",
    "---"
   ]
  },
  {
   "cell_type": "markdown",
   "id": "549d119a-e915-46c5-bf8f-c1a3b28fa063",
   "metadata": {},
   "source": [
    "### Summation"
   ]
  },
  {
   "cell_type": "markdown",
   "id": "7a034f4d-48c7-48cc-8c69-360af6bfa683",
   "metadata": {},
   "source": [
    "In this report we demonstrated how the data was prepared, how it was explored, and the manner in which a model for prediction was constructed. We found that the strongest drivers of increased churn related to low tenure, fiber optic internet service, payment by electronic check, and month-to-month terms.\n",
    "\n",
    "Here are the key points to take from this report:\n",
    "- Customer churn drops significantly after the first five months.\n",
    "- Fiber optic customers churn $69\\%$ in their first year, relative to $29\\%$ after.\n",
    "- First year fiber customers paid statistically significantly more than post year fiber customers\n",
    "- Month-to-month term customers churn at close to the same rate they are retained\n",
    "\n",
    "With our model we were able to successfully capture nearly $64\\%$ of positive cases of churn in our testing dataset. This model has room to improve, but by reaching out to those customers, we have the capability to significantly increase in customer retention."
   ]
  },
  {
   "cell_type": "markdown",
   "id": "82f44055-83e4-4d66-a239-b0b3d1b26861",
   "metadata": {},
   "source": [
    "This report has given a high-level view of the data science pipeline from acquiring through evaluation. Now we can output our predictions and their probability as deduced by our model, delivering our prediction report. This function will output to a CSV file that will contain three columns:\n",
    "- `customer_id`: Unique identifier of the customer in the database\n",
    "- `probability_of_churn`: Percentage float of the likelihood the prediction is accurate\n",
    "- `prediction_of_churn`: Boolean value that is $1$ if churn was predicted to occur"
   ]
  },
  {
   "cell_type": "code",
   "execution_count": 21,
   "id": "036c1bda-ee3b-4b00-be02-0b94147a718f",
   "metadata": {},
   "outputs": [
    {
     "data": {
      "text/html": [
       "<div>\n",
       "<style scoped>\n",
       "    .dataframe tbody tr th:only-of-type {\n",
       "        vertical-align: middle;\n",
       "    }\n",
       "\n",
       "    .dataframe tbody tr th {\n",
       "        vertical-align: top;\n",
       "    }\n",
       "\n",
       "    .dataframe thead th {\n",
       "        text-align: right;\n",
       "    }\n",
       "</style>\n",
       "<table border=\"1\" class=\"dataframe\">\n",
       "  <thead>\n",
       "    <tr style=\"text-align: right;\">\n",
       "      <th></th>\n",
       "      <th>customer_id</th>\n",
       "      <th>probability_of_churn</th>\n",
       "      <th>prediction_of_churn</th>\n",
       "    </tr>\n",
       "  </thead>\n",
       "  <tbody>\n",
       "    <tr>\n",
       "      <th>0</th>\n",
       "      <td>0016-QLJIS</td>\n",
       "      <td>0.05</td>\n",
       "      <td>0</td>\n",
       "    </tr>\n",
       "    <tr>\n",
       "      <th>1</th>\n",
       "      <td>0017-DINOC</td>\n",
       "      <td>0.06</td>\n",
       "      <td>0</td>\n",
       "    </tr>\n",
       "    <tr>\n",
       "      <th>2</th>\n",
       "      <td>0019-GFNTW</td>\n",
       "      <td>0.06</td>\n",
       "      <td>0</td>\n",
       "    </tr>\n",
       "    <tr>\n",
       "      <th>3</th>\n",
       "      <td>0056-EPFBG</td>\n",
       "      <td>0.17</td>\n",
       "      <td>0</td>\n",
       "    </tr>\n",
       "    <tr>\n",
       "      <th>4</th>\n",
       "      <td>0078-XZMHT</td>\n",
       "      <td>0.04</td>\n",
       "      <td>0</td>\n",
       "    </tr>\n",
       "    <tr>\n",
       "      <th>...</th>\n",
       "      <td>...</td>\n",
       "      <td>...</td>\n",
       "      <td>...</td>\n",
       "    </tr>\n",
       "    <tr>\n",
       "      <th>7038</th>\n",
       "      <td>9962-BFPDU</td>\n",
       "      <td>0.25</td>\n",
       "      <td>0</td>\n",
       "    </tr>\n",
       "    <tr>\n",
       "      <th>7039</th>\n",
       "      <td>9967-ATRFS</td>\n",
       "      <td>0.15</td>\n",
       "      <td>0</td>\n",
       "    </tr>\n",
       "    <tr>\n",
       "      <th>7040</th>\n",
       "      <td>9970-QBCDA</td>\n",
       "      <td>0.22</td>\n",
       "      <td>0</td>\n",
       "    </tr>\n",
       "    <tr>\n",
       "      <th>7041</th>\n",
       "      <td>9975-SKRNR</td>\n",
       "      <td>0.25</td>\n",
       "      <td>0</td>\n",
       "    </tr>\n",
       "    <tr>\n",
       "      <th>7042</th>\n",
       "      <td>9986-BONCE</td>\n",
       "      <td>0.23</td>\n",
       "      <td>0</td>\n",
       "    </tr>\n",
       "  </tbody>\n",
       "</table>\n",
       "<p>7043 rows × 3 columns</p>\n",
       "</div>"
      ],
      "text/plain": [
       "     customer_id  probability_of_churn  prediction_of_churn\n",
       "0     0016-QLJIS                  0.05                    0\n",
       "1     0017-DINOC                  0.06                    0\n",
       "2     0019-GFNTW                  0.06                    0\n",
       "3     0056-EPFBG                  0.17                    0\n",
       "4     0078-XZMHT                  0.04                    0\n",
       "...          ...                   ...                  ...\n",
       "7038  9962-BFPDU                  0.25                    0\n",
       "7039  9967-ATRFS                  0.15                    0\n",
       "7040  9970-QBCDA                  0.22                    0\n",
       "7041  9975-SKRNR                  0.25                    0\n",
       "7042  9986-BONCE                  0.23                    0\n",
       "\n",
       "[7043 rows x 3 columns]"
      ]
     },
     "execution_count": 21,
     "metadata": {},
     "output_type": "execute_result"
    }
   ],
   "source": [
    "# function will check if CSV file exists or if force cache=True and write\n",
    "# file to CSV, can also be assigned to DataFrame or will output preview\n",
    "get_final_report(logit, features, cache=True)"
   ]
  },
  {
   "cell_type": "markdown",
   "id": "8064f349-7d40-4b64-8c32-50aa4779c70f",
   "metadata": {},
   "source": [
    "The function returns a preview of the DataFrame if not assigned. We can see that the function was succesful, and we have our predictions for each customer with their probability. You can find the GitHub hosted product of this function [here](https://raw.githubusercontent.com/ray-zapata/project_classification_telco/main/final_report.csv)."
   ]
  },
  {
   "cell_type": "markdown",
   "id": "851e87c9-69bc-4e24-80b4-0c2532b6a8d4",
   "metadata": {},
   "source": [
    "### Recommended Actions and Further Development\n",
    "\n",
    "Knowing that our strongest drivers of churn being the allowance of month-to-month terms, this seems to be a good area to focus on altering. Codeup-Telco has no plans to require contractual obligations to be customers, such an act would likely be harmful and result in further customer loss. What we are recommending instead is to offer incentives and promotional discounts in exchange for term agreements.\n",
    "\n",
    "Due to the varied nature of internet usage, it is possible many of our fiber customers churn due dissatisfaction with the speeds, latency, and stability they experience, not understanding the role servers and media not owned and operated by Codeup-Telco play in that unexpected performance. With regard to payment methods, the high correlation between customers paying with electronic checks and churn warrants inspecting of our payment systems to route out potential bugs or flaws that may complicate or obfuscate the process.\n",
    "\n",
    "By offering customers trial periods of our streaming TV and movies for agreeing to one- or two-year terms, it is possible to incentivise customers into remaining longer, and possibly even continue subscriptions to one or both of those services after the trial. Once customers have completed the term for their contracts, the data suggests they are likely to remain customers longer.\n",
    "\n",
    "The next logical phase in aiding unhappy customers is by directly reaching out to help resolving the dilemmas they may be facing in usage of our provided services. Using our model probability for churn, we can reach out to those customers indicated to likely churn with surveys, hear directly what they have to say, and offer them courtesy promotions to thank them for their continuing patronage."
   ]
  },
  {
   "cell_type": "code",
   "execution_count": 22,
   "id": "db3ca91e-c5e9-4a4e-ae15-872f1b3d0072",
   "metadata": {},
   "outputs": [
    {
     "name": "stdout",
     "output_type": "stream",
     "text": [
      "\n",
      "\n",
      "\n",
      "\n",
      "\n",
      "\n",
      "\n",
      "\n",
      "\n",
      "\n",
      "\n",
      "\n",
      "\n",
      "\n",
      "\n",
      "\n",
      "\n",
      "\n",
      "\n",
      "\n",
      "\n",
      "\n",
      "\n",
      "\n",
      "\n",
      "\n",
      "\n",
      "\n",
      "\n",
      "\n",
      "\n",
      "\n",
      "\n",
      " \n",
      "\n",
      "\n",
      "\n",
      "\n",
      "\n",
      "\n",
      "\n",
      "\n",
      "\n",
      "\n",
      "\n",
      "\n",
      "\n",
      "\n",
      "\n",
      "\n",
      "\n",
      "\n",
      "\n",
      "\n",
      "\n",
      "\n",
      "\n",
      "\n",
      "\n",
      "\n",
      "\n",
      "\n",
      "\n",
      "\n",
      "\n",
      "\n",
      "\n",
      " \n",
      "\n",
      "\n",
      "\n",
      "\n",
      "\n",
      "\n",
      "\n",
      "\n",
      "\n",
      "\n",
      "\n",
      "\n",
      "\n",
      "\n",
      "\n",
      "\n",
      "\n",
      "\n",
      "\n",
      "\n",
      "\n",
      "\n",
      "\n",
      "\n",
      "\n",
      "\n",
      "\n",
      "\n",
      "\n",
      "\n",
      "\n",
      "\n",
      "\n",
      " See You Space Cowboy...\n"
     ]
    }
   ],
   "source": [
    "end()"
   ]
  }
 ],
 "metadata": {
  "kernelspec": {
   "display_name": "Python 3",
   "language": "python",
   "name": "python3"
  },
  "language_info": {
   "codemirror_mode": {
    "name": "ipython",
    "version": 3
   },
   "file_extension": ".py",
   "mimetype": "text/x-python",
   "name": "python",
   "nbconvert_exporter": "python",
   "pygments_lexer": "ipython3",
   "version": "3.8.10"
  },
  "toc-autonumbering": false,
  "toc-showmarkdowntxt": false,
  "toc-showtags": true,
  "widgets": {
   "application/vnd.jupyter.widget-state+json": {
    "state": {},
    "version_major": 2,
    "version_minor": 0
   }
  }
 },
 "nbformat": 4,
 "nbformat_minor": 5
}
